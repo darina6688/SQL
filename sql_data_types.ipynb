{
  "metadata": {
    "kernelspec": {
      "name": "SQLite",
      "display_name": "SQLite",
      "language": "sql"
    },
    "language_info": {
      "codemirror_mode": "sql",
      "file_extension": "",
      "mimetype": "",
      "name": "sql",
      "version": "3.32.3"
    }
  },
  "nbformat_minor": 4,
  "nbformat": 4,
  "cells": [
    {
      "cell_type": "code",
      "source": "Lesson 4.  ТИПЫ ДАННЫХ И ИХ ПРЕОБРАЗОВАНИЕ",
      "metadata": {
        "trusted": true
      },
      "outputs": [],
      "execution_count": null
    },
    {
      "cell_type": "code",
      "source": "В заданиях используются данные с платформы Airbnb в Берлине ✈️.\n\nИмеются следующие таблицы:\n\n1. listings – информация о жилье, включая полные описания, характеристики и средние оценки в отзывах; поскольку столбцов очень много, нужные перечислены в текстах самих задач\n\n2. calendar_summary – информация о доступности и цене того или иного жилья по дням\nlisting_id – идентификатор жилья (объявления)\ndate – дата\navailable – доступность жилья в данный день (t/f)\nprice – цена за ночь\n    \n3. reviews – отзывы\nlisting_id –  идентификатор жилья  \nid – id отзыва\ndate – дата отзыва\nreviewer_id – id ревьюера (автора отзыва)\nreviewer_name – имя автора\ncomments – сам отзыв\n",
      "metadata": {
        "trusted": true
      },
      "outputs": [],
      "execution_count": null
    },
    {
      "cell_type": "code",
      "source": "На Airbnb есть две основные группы пользователей:\nХозяева (хосты, hosts) – сдают жилье\nПутешественники (travelers) – снимают\n\nПользователи, сдающие квартиры на Airbnb, зарегистрировались в разное время. Кто-то – очень давно, а кто-то совсем недавно. \nДавайте проверим, в какой месяц и год зарегистрировалось наибольшее количество новых хостов. \nhost_id – идентификатор хозяина\nhost_since – дата регистрации как хост\n\nСам хост может встретиться в таблице несколько раз, если сдает несколько помещений, поэтому не забудьте оставить уникальные значения host_id. \nТакже обратите внимание на тип данных в host_since, возможно вам пригодится toStartOfMonth() для извлечения части даты и toDateOrNull() для обработки пустых значений.",
      "metadata": {
        "trusted": true
      },
      "outputs": [],
      "execution_count": null
    },
    {
      "cell_type": "code",
      "source": "SELECT toStartOfMonth(toDateOrNull(host_since)), count(distinct host_id)\nFROM default.listings\nGROUP BY toStartOfMonth(toDateOrNull(host_since))\nORDER BY count(distinct host_id) DESC",
      "metadata": {
        "trusted": true
      },
      "outputs": [
        {
          "ename": "Error",
          "evalue": "Please load a database to perform operations",
          "traceback": [
            "Error: Please load a database to perform operations"
          ],
          "output_type": "error"
        }
      ],
      "execution_count": 1
    },
    {
      "cell_type": "code",
      "source": "Посмотрим на среднюю частоту ответа среди хозяев (f) и суперхозяев (t).\nЗначения частоты ответа хранятся как строки и включают значок %, который необходимо заменить на пустоту (''). \nПосле этого приведите столбец к нужному типу данных с помощью toInt32OrNull() и посчитайте среднюю частоту отклика в разбивке по тому, является ли хост суперхозяином или нет. \nВ качестве ответа укажите наибольшее среднее.\n\nhost_response_rate – частота ответа\nhost_is_superhost – является ли суперхозяином\nВажный момент: у каждого host_id есть только одно уникальное значение частоты ответа, а также одна единая отметка суперхозяина. \n    Чтобы посчитать показатели честно, нужно использовать подзапрос и взять уникальные комбинации с помощью DISTINCT.",
      "metadata": {
        "trusted": true
      },
      "outputs": [],
      "execution_count": null
    },
    {
      "cell_type": "code",
      "source": "SELECT\n    host_is_superhost,\n    AVG(toInt32OrNull(replaceAll(host_response_rate, '%', ''))) as avgResp\nFROM (\n    SELECT \n        DISTINCT host_id,\n        host_response_rate,\n        host_is_superhost\n    FROM \n        default.listings) AS sub \nGROUP BY host_is_superhost",
      "metadata": {
        "trusted": true
      },
      "outputs": [],
      "execution_count": null
    },
    {
      "cell_type": "code",
      "source": "Сгруппируйте данные из listings по хозяевам (host_id) и посчитайте, какую цену за ночь в среднем каждый из них устанавливает (у одного хоста может быть несколько объявлений). \nИдентификаторы сдаваемого жилья объедините в отдельный массив. Таблицу отсортируйте по убыванию средней цены и убыванию host_id (в таком порядке). \nВ качестве ответа укажите первый массив в результирующей таблице, состоящий более чем из двух id. \n\nhost_id – идентификатор хозяина\nid – идентификатор жилья\nprice – цена за ночь в конкретном месте",
      "metadata": {
        "trusted": true
      },
      "outputs": [],
      "execution_count": null
    },
    {
      "cell_type": "code",
      "source": "SELECT\n    host_id,\n    AVG(toFloat32OrNull(replaceRegexpAll(price, '[$,]', ''))) as avgPrc,\n    groupArray(id)\nFROM default.listings\nGROUP BY host_id\nORDER BY avgPrc DESC, host_id DESC\nLIMIT 10",
      "metadata": {
        "trusted": true
      },
      "outputs": [],
      "execution_count": null
    },
    {
      "cell_type": "code",
      "source": "Немного усложним предыдущую задачу, и посчитаем разницу между максимальной и минимальной установленной ценой у каждого хозяина. \nВ качестве ответа укажите идентификатор хоста, у которого разница оказалась наибольшей. \n\nhost_id – идентификатор хозяина\nid – идентификатор жилья\nprice – цена за ночь в конкретном месте",
      "metadata": {
        "trusted": true
      },
      "outputs": [],
      "execution_count": null
    },
    {
      "cell_type": "code",
      "source": "SELECT\n    host_id,\n    (MAX(toFloat32OrNull(replaceRegexpAll(price, '[$,]', ''))))-(MIN(toFloat32OrNull(replaceRegexpAll(price, '[$,]', '')))) as diff\nFROM default.listings\nGROUP BY host_id\nORDER BY diff DESC\nLIMIT 10",
      "metadata": {
        "trusted": true
      },
      "outputs": [],
      "execution_count": null
    },
    {
      "cell_type": "code",
      "source": "Теперь сгруппируйте данные по типу жилья и выведите средние значения цены за ночь, размера депозита и цены уборки. \nОбратите внимание на тип данных, наличие значка $ и запятых в больших суммах. \nДля какого типа жилья среднее значение залога наибольшее?\n\nroom_type – тип сдаваемого жилья \nprice – цена за ночь\nsecurity_deposit – залог за сохранность имущества\ncleaning_fee – плата за уборку",
      "metadata": {
        "trusted": true
      },
      "outputs": [],
      "execution_count": null
    },
    {
      "cell_type": "code",
      "source": "SELECT\n    room_type,\n    AVG(toFloat32OrNull(replaceRegexpAll(price, '[$,]', '')))as avgPr,\n    AVG(toFloat32OrNull(replaceRegexpAll(security_deposit, '[$,]', '')))as avgDep,\n    AVG(toFloat32OrNull(replaceRegexpAll(cleaning_fee, '[$,]', '')))as avgCl\nFROM default.listings\nGROUP BY room_type\nORDER BY avgDep DESC",
      "metadata": {
        "trusted": true
      },
      "outputs": [],
      "execution_count": null
    },
    {
      "cell_type": "code",
      "source": "В каких частях города средняя стоимость за ночь является наиболее низкой? \nСгруппируйте данные по neighbourhood_cleansed и посчитайте среднюю цену за ночь в каждом районе. \nВ качестве ответа введите название места, где средняя стоимость за ночь ниже всего.\n\nprice – цена за ночь\nneighbourhood_cleansed – район/округ города",
      "metadata": {
        "trusted": true
      },
      "outputs": [],
      "execution_count": null
    },
    {
      "cell_type": "code",
      "source": "SELECT\n    neighbourhood_cleansed,\n    AVG(toFloat32OrNull(replaceRegexpAll(price, '[$,]', '')))as avgPr\nFROM default.listings\nGROUP BY neighbourhood_cleansed\nORDER BY avgPr",
      "metadata": {
        "trusted": true
      },
      "outputs": [],
      "execution_count": null
    },
    {
      "cell_type": "code",
      "source": "В каких районах Берлина средняя площадь жилья, которое сдаётся целиком, является наибольшей? \nОтсортируйте по среднему и выберите топ-3. \n\nneighbourhood_cleansed – район\nsquare_feet – площадь\nroom_type – тип (нужный – 'Entire home/apt')",
      "metadata": {
        "trusted": true
      },
      "outputs": [],
      "execution_count": null
    },
    {
      "cell_type": "code",
      "source": "SELECT\n    neighbourhood_cleansed,\n    AVG(toFloat32OrNull(square_feet))as avgsq\nFROM default.listings\nWHERE room_type = 'Entire home/apt'\nGROUP BY neighbourhood_cleansed\nORDER BY avgsq DESC",
      "metadata": {
        "trusted": true
      },
      "outputs": [],
      "execution_count": null
    },
    {
      "cell_type": "code",
      "source": "Напоследок давайте посмотрим, какая из представленных комнат расположена ближе всего к центру города. \nВ качестве ответа укажите id объявления.\n\nid – идентификатор жилья (объявления)\nroom_type – тип жилья ('Private room')\nlatitude – широта\nlongitude – долгота\n52.5200 с.ш., 13.4050 в.д – координаты центра Берлина",
      "metadata": {
        "trusted": true
      },
      "outputs": [],
      "execution_count": null
    },
    {
      "cell_type": "code",
      "source": "SELECT\n    id,\n    toFloat64OrNull(latitude) as latitude,    \n    toFloat64OrNull(longitude) as longitude, \n    geoDistance(13.4050, 52.5200, longitude, latitude) as fromcenter\nFROM default.listings\nWHERE room_type = 'Private room'\nORDER BY fromcenter\nLIMIT 10",
      "metadata": {
        "trusted": true
      },
      "outputs": [],
      "execution_count": null
    },
    {
      "cell_type": "code",
      "source": "",
      "metadata": {
        "trusted": true
      },
      "outputs": [],
      "execution_count": null
    }
  ]
}
